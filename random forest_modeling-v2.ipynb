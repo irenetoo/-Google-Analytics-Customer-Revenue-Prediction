{
 "cells": [
  {
   "cell_type": "markdown",
   "metadata": {},
   "source": [
    "[random forest](#random-forest)"
   ]
  },
  {
   "cell_type": "code",
   "execution_count": 1,
   "metadata": {},
   "outputs": [
    {
     "name": "stdout",
     "output_type": "stream",
     "text": [
      "<Managed Device 0>\n"
     ]
    }
   ],
   "source": [
    "import numpy as np\n",
    "import pandas as pd"
   ]
  },
  {
   "cell_type": "code",
   "execution_count": 2,
   "metadata": {},
   "outputs": [
    {
     "name": "stdout",
     "output_type": "stream",
     "text": [
      "['target', 'ret', 'transactionRevenue_sum', 'fullVisitorId']\n",
      "count    296530.000000\n",
      "mean          0.249740\n",
      "std           2.099013\n",
      "min           0.000000\n",
      "25%           0.000000\n",
      "50%           0.000000\n",
      "75%           0.000000\n",
      "max          24.158408\n",
      "Name: transactionRevenue_sum, dtype: float64\n",
      "1344567    0.0\n",
      "1344568    0.0\n",
      "1344569    0.0\n",
      "1344570    0.0\n",
      "1344571    0.0\n",
      "          ... \n",
      "1641092    0.0\n",
      "1641093    0.0\n",
      "1641094    0.0\n",
      "1641095    0.0\n",
      "1641096    0.0\n",
      "Name: transactionRevenue_sum, Length: 296530, dtype: float64\n",
      "-------------train['fullVisitorId'].astype('str')-----------------------\n",
      "count                1344567\n",
      "unique               1323730\n",
      "top       344658309918574688\n",
      "freq                       4\n",
      "Name: fullVisitorId, dtype: object\n",
      "-------------train['target']-----------------------\n",
      "count    1.344567e+06\n",
      "mean     5.285608e-03\n",
      "std      3.108308e-01\n",
      "min      0.000000e+00\n",
      "25%      0.000000e+00\n",
      "50%      0.000000e+00\n",
      "75%      0.000000e+00\n",
      "max      2.465395e+01\n",
      "Name: target, dtype: float64\n",
      "-------------train['ret']-----------------------\n",
      "count    1.344567e+06\n",
      "mean     5.116145e-03\n",
      "std      7.134405e-02\n",
      "min      0.000000e+00\n",
      "25%      0.000000e+00\n",
      "50%      0.000000e+00\n",
      "75%      0.000000e+00\n",
      "max      1.000000e+00\n",
      "Name: ret, dtype: float64\n",
      "-------------test.drop(target_cols, axis = 1)-----------------------\n",
      "       first_ses_from_the_period_start  last_ses_from_the_period_end  \\\n",
      "count                    296530.000000                 296530.000000   \n",
      "mean                         78.525765                     85.987988   \n",
      "std                          50.243115                     50.358359   \n",
      "min                           0.000000                      0.000000   \n",
      "25%                          34.000000                     41.000000   \n",
      "50%                          76.000000                     88.000000   \n",
      "75%                         122.000000                    131.000000   \n",
      "max                         167.000000                    167.000000   \n",
      "\n",
      "       interval_dates  visitStartTime_counts  visitNumber_max   bounces_mean  \\\n",
      "count   296530.000000          296530.000000    296530.000000  296530.000000   \n",
      "mean         2.486248               1.354295         1.504087       0.478962   \n",
      "std         11.899420               1.316748         2.697965       0.479411   \n",
      "min          0.000000               1.000000         1.000000       0.000000   \n",
      "25%          0.000000               1.000000         1.000000       0.000000   \n",
      "50%          0.000000               1.000000         1.000000       0.428571   \n",
      "75%          0.000000               1.000000         1.000000       1.000000   \n",
      "max        167.000000             105.000000       523.000000       1.000000   \n",
      "\n",
      "           newVisits       hits_sum       hits_min       hits_max  ...  \\\n",
      "count  296530.000000  296530.000000  296530.000000  296530.000000  ...   \n",
      "mean        0.801295       7.077662       4.051341       5.706664  ...   \n",
      "std         0.399026      15.841196       7.469314      10.148883  ...   \n",
      "min         0.000000       1.000000       1.000000       1.000000  ...   \n",
      "25%         1.000000       1.000000       1.000000       1.000000  ...   \n",
      "50%         1.000000       2.000000       1.000000       2.000000  ...   \n",
      "75%         1.000000       7.000000       4.000000       6.000000  ...   \n",
      "max         1.000000    2406.000000     500.000000     500.000000  ...   \n",
      "\n",
      "       pageviews_mean  sessionQualityDimMin  sessionQualityDimMax  \\\n",
      "count   296530.000000         296530.000000         296530.000000   \n",
      "mean         3.850832              3.021529              5.177415   \n",
      "std          5.413083              8.798587             13.577100   \n",
      "min          0.000000              1.000000              1.000000   \n",
      "25%          1.000000              1.000000              1.000000   \n",
      "50%          2.000000              1.000000              1.000000   \n",
      "75%          4.625000              1.000000              1.000000   \n",
      "max        255.000000             98.000000             99.000000   \n",
      "\n",
      "       sessionQualityDimMean  sessionQualityDimSum  timeOnSite_sum  \\\n",
      "count          296530.000000         296530.000000   296530.000000   \n",
      "mean                3.882527              6.577311      198.877287   \n",
      "std                 9.818465             21.779628      616.581169   \n",
      "min                 1.000000              1.000000        0.000000   \n",
      "25%                 1.000000              1.000000        0.000000   \n",
      "50%                 1.000000              1.000000       16.000000   \n",
      "75%                 1.000000              2.000000      134.000000   \n",
      "max                98.000000           1821.000000    53914.000000   \n",
      "\n",
      "       timeOnSite_min  timeOnSite_max  timeOnSite_mean   transactions  \n",
      "count   296530.000000   296530.000000    296530.000000  296530.000000  \n",
      "mean       123.068679      167.360001       123.068679       0.021897  \n",
      "std        294.618510      414.577885       294.618510       0.172003  \n",
      "min          0.000000        0.000000         0.000000       0.000000  \n",
      "25%          0.000000        0.000000         0.000000       0.000000  \n",
      "50%         14.000000       15.000000        14.000000       0.000000  \n",
      "75%        106.000000      127.000000       106.000000       0.000000  \n",
      "max       7637.000000    16124.000000      7637.000000      17.000000  \n",
      "\n",
      "[8 rows x 24 columns]\n",
      "-------------test_x_id-----------------------\n",
      "count                  296530\n",
      "unique                 296530\n",
      "top       3929314326867273131\n",
      "freq                        1\n",
      "Name: fullVisitorId, dtype: object\n",
      "------------test_y-----------------------\n",
      "1344567    0.0\n",
      "1344568    0.0\n",
      "1344569    0.0\n",
      "1344570    0.0\n",
      "1344571    0.0\n",
      "          ... \n",
      "1641092    0.0\n",
      "1641093    0.0\n",
      "1641094    0.0\n",
      "1641095    0.0\n",
      "1641096    0.0\n",
      "Name: transactionRevenue_sum, Length: 296530, dtype: float64\n",
      "-------------test_ret----------------------\n",
      "1344567   NaN\n",
      "1344568   NaN\n",
      "1344569   NaN\n",
      "1344570   NaN\n",
      "1344571   NaN\n",
      "           ..\n",
      "1641092   NaN\n",
      "1641093   NaN\n",
      "1641094   NaN\n",
      "1641095   NaN\n",
      "1641096   NaN\n",
      "Name: ret, Length: 296530, dtype: float64\n"
     ]
    }
   ],
   "source": [
    "# '''\n",
    "import pickle\n",
    "x = open('C:/Users/Forge-15 1650/Desktop/190003/data analytic/final_train_bkp', 'rb')\n",
    "final_train = pickle.load(x)\n",
    "\n",
    "\n",
    "#train data\n",
    "test = final_train[final_train['target'].isnull()] #seperating the test from the final dataset\n",
    "\n",
    "\n",
    "\n",
    "#train data\n",
    "train = final_train[final_train['target'].notnull()]\n",
    "train\n",
    "\n",
    "\n",
    "\n",
    "target_cols = ['target', 'ret', 'transactionRevenue_sum', 'fullVisitorId']\n",
    "print(target_cols)\n",
    "# ['target', 'ret', 'transactionRevenue_sum', 'fullVisitorId']\n",
    "target_test = test['transactionRevenue_sum'].astype('float').apply(lambda x: np.log1p(x))\n",
    "print(target_test.describe())\n",
    "# '''\n",
    "\n",
    "#target\n",
    "target_cols = ['target', 'ret', 'transactionRevenue_sum', 'fullVisitorId']\n",
    "target_test = test['transactionRevenue_sum'].astype('float').apply(lambda x: np.log1p(x))\n",
    "print(target_test)\n",
    "# print(\"------------------------------------\")\n",
    "\n",
    "# train data \n",
    "train_x = train.drop(target_cols, axis = 1)\n",
    "train_x_id = train['fullVisitorId'].astype('str')\n",
    "print(\"-------------train['fullVisitorId'].astype('str')-----------------------\")\n",
    "print(train_x_id.describe())\n",
    "\n",
    "train_y = train['target']\n",
    "print(\"-------------train['target']-----------------------\")\n",
    "print(train_y.describe())\n",
    "train_ret = train['ret']\n",
    "print(\"-------------train['ret']-----------------------\")\n",
    "print(train['ret'].describe())\n",
    "\n",
    "test_x = test.drop(target_cols, axis = 1)\n",
    "print(\"-------------test.drop(target_cols, axis = 1)-----------------------\")\n",
    "print(test_x.describe())\n",
    "\n",
    "test_x_id = test['fullVisitorId'].astype('str')\n",
    "print(\"-------------test_x_id-----------------------\")\n",
    "print(test_x_id.describe())\n",
    "\n",
    "test_y = target_test\n",
    "print(\"------------test_y-----------------------\")\n",
    "print(test_y)\n",
    "\n",
    "test_ret = test['ret']\n",
    "print(\"-------------test_ret----------------------\")\n",
    "print(test_ret)"
   ]
  },
  {
   "cell_type": "code",
   "execution_count": 3,
   "metadata": {},
   "outputs": [
    {
     "name": "stdout",
     "output_type": "stream",
     "text": [
      "{'hits_min', 'last_ses_from_the_period_end', 'timeOnSite_sum', 'transactions', 'hits_mean', 'sessionQualityDimMax', 'bounces_mean', 'sessionQualityDimMin', 'visitStartTime_counts', 'pageviews_min', 'pageviews_max', 'timeOnSite_max', 'newVisits', 'pageviews_sum', 'hits_max', 'hits_sum', 'timeOnSite_mean', 'sessionQualityDimMean', 'sessionQualityDimSum', 'timeOnSite_min', 'visitNumber_max', 'pageviews_mean', 'first_ses_from_the_period_start', 'interval_dates'}\n",
      "\n",
      "\n",
      "['channelGrouping', 'browser', 'operatingSystem', 'isMobile', 'deviceCategory', 'continent', 'subContinent', 'country', 'region', 'metro', 'city', 'networkDomain', 'campaign', 'source', 'medium', 'keyword', 'googleAds', 'referralPath', 'isTrueDirect', 'customDimensions_value']\n"
     ]
    }
   ],
   "source": [
    "#correct dtype train\n",
    "train_x['isMobile'] = train_x['isMobile'].astype('object')\n",
    "train_x['isTrueDirect'] = train_x['isTrueDirect'].astype('object')\n",
    "\n",
    "#correct dtype test\n",
    "test_x['isMobile'] = test_x['isMobile'].astype('object')\n",
    "test_x['isTrueDirect'] = test_x['isTrueDirect'].astype('object')\n",
    "\n",
    "#taking cat and numerical columns seperately\n",
    "cat_cols = [x for x in train_x.columns if train_x[x].dtype == 'object']\n",
    "num_cols = set(train_x.columns) - set(cat_cols)\n",
    "\n",
    "print(num_cols)\n",
    "print('\\n')\n",
    "print(cat_cols)\n",
    "\n",
    "# fill missing in train\n",
    "for col in cat_cols:\n",
    "    train_x[col].fillna('missing', inplace=True) \n",
    "    test_x[col].fillna('missing', inplace=True)\n",
    "\n",
    "for col in num_cols:       \n",
    "    train_x[col].fillna(0, inplace=True)\n",
    "    test_x[col].fillna(0, inplace=True)\n"
   ]
  },
  {
   "cell_type": "code",
   "execution_count": 4,
   "metadata": {},
   "outputs": [
    {
     "name": "stdout",
     "output_type": "stream",
     "text": [
      "transform column channelGrouping\n",
      "transform column browser\n",
      "transform column operatingSystem\n",
      "transform column isMobile\n",
      "transform column deviceCategory\n",
      "transform column continent\n",
      "transform column subContinent\n",
      "transform column country\n",
      "transform column region\n",
      "transform column metro\n",
      "transform column city\n",
      "transform column networkDomain\n",
      "transform column campaign\n",
      "transform column source\n",
      "transform column medium\n",
      "transform column keyword\n",
      "transform column googleAds\n",
      "transform column referralPath\n",
      "transform column isTrueDirect\n",
      "transform column customDimensions_value\n"
     ]
    }
   ],
   "source": [
    "from sklearn.preprocessing import LabelEncoder\n",
    "for col in cat_cols:\n",
    "    print(\"transform column {}\".format(col))\n",
    "    lbe = LabelEncoder()\n",
    "    lbe.fit(pd.concat([train_x[col],test_x[col]]).astype(\"str\"))\n",
    "    train_x[col] = lbe.transform(train_x[col].astype(\"str\"))\n",
    "    test_x[col] = lbe.transform(test_x[col].astype(\"str\"))\n",
    "    \n",
    "#normalization\n",
    "from sklearn.preprocessing import StandardScaler\n",
    "for col in num_cols:\n",
    "    norm = StandardScaler()\n",
    "    norm.fit(train_x[col].values.reshape(-1,1))\n",
    "    train_x[col] = norm.transform(train_x[col].values.reshape(-1,1))\n",
    "    test_x[col] = norm.transform(test_x[col].values.reshape(-1,1))"
   ]
  },
  {
   "cell_type": "code",
   "execution_count": null,
   "metadata": {},
   "outputs": [],
   "source": [
    "%%time\n",
    "import pandas as pd\n",
    "import numpy as np\n",
    "\n",
    "train_x = pd.read_csv('D:/datasets/train_x.csv')\n",
    "# print(ddtrain.head())\n",
    "\n",
    "test_x = pd.read_csv('D:/datasets/test_x.csv')\n",
    "# print(ddtest.head())"
   ]
  },
  {
   "cell_type": "code",
   "execution_count": null,
   "metadata": {},
   "outputs": [],
   "source": [
    "train_x.columns"
   ]
  },
  {
   "cell_type": "code",
   "execution_count": null,
   "metadata": {},
   "outputs": [],
   "source": [
    "test_x.columns"
   ]
  },
  {
   "cell_type": "code",
   "execution_count": null,
   "metadata": {},
   "outputs": [],
   "source": [
    "%%time\n",
    "\n",
    "#target\n",
    "target_cols = ['target', 'ret', 'transactionRevenue_sum', 'fullVisitorId']\n",
    "target_test = test['transactionRevenue_sum'].astype('float').apply(lambda x: np.log1p(x))\n",
    "\n",
    "# train data \n",
    "# train_x = train.drop(target_cols, axis = 1)\n",
    "train_x_id = train_x['fullVisitorId'].astype('str')\n",
    "train_y = train_x['target']\n",
    "train_ret = train['ret']\n",
    "\n",
    "test_x = test.drop(target_cols, axis = 1)\n",
    "test_x_id = test['fullVisitorId'].astype('str')\n",
    "test_y = target_test\n",
    "test_ret = test['ret']"
   ]
  },
  {
   "cell_type": "raw",
   "metadata": {},
   "source": [
    "# Create the Keras model.\n",
    "# Use hyperparameter optimization if you have the time.\n",
    "# The csv creation returns the number of rows and number of features. We need these values below.\n",
    "# num_timesteps = create_ts_files(global_active_power_scaled,\n",
    "#                                 start_index=0,\n",
    "#                                 end_index=None,\n",
    "#                                 history_length=history_length,\n",
    "#                                 step_size=step_size,\n",
    "#                                 target_step=target_step,\n",
    "#                                 num_rows_per_file=128*100,\n",
    "#                                 data_folder='ts_data')\n",
    "\n",
    "import tensorflow as tf\n",
    "ts_inputs = tf.keras.Input()\n",
    "\n",
    "# units=10 -> The cell and hidden states will be of dimension 10.\n",
    "#             The number of parameters that need to be trained = 4*units*(units+2)\n",
    "x = layers.LSTM(units=10)(ts_inputs)\n",
    "x = layers.Dropout(0.2)(x)\n",
    "outputs = layers.Dense(1, activation='linear')(x)\n",
    "model = tf.keras.Model(inputs=ts_inputs, outputs=outputs)"
   ]
  },
  {
   "cell_type": "code",
   "execution_count": null,
   "metadata": {},
   "outputs": [],
   "source": [
    "from keras.models import Sequential\n",
    "from keras.layers import Dense\n",
    "from keras.layers import LSTM, Bidirectional, Dropout\n",
    "from keras.callbacks import ReduceLROnPlateau\n",
    "\n"
   ]
  },
  {
   "cell_type": "raw",
   "metadata": {},
   "source": [
    "%%time\n",
    "from sklearn.model_selection import train_test_split\n",
    "X_train, X_val, y_train, y_val = train_test_split(train_x, train_y, test_size=0.15, random_state=1, )"
   ]
  },
  {
   "cell_type": "markdown",
   "metadata": {},
   "source": [
    "- https://machinelearningmastery.com/time-series-forecasting-methods-in-python-cheat-sheet/\n",
    "- https://www.researchgate.net/post/Deep_networks_design_for_nonlinear_regression"
   ]
  },
  {
   "cell_type": "code",
   "execution_count": null,
   "metadata": {},
   "outputs": [],
   "source": [
    "dtrain['transactionRevenue'] = np.log(dtrain['transactionRevenue'].astype(float))\n",
    "\n",
    "y = df['transactionRevenue'].values\n",
    "X = df.drop(['transactionRevenue'],axis=1)"
   ]
  },
  {
   "cell_type": "code",
   "execution_count": null,
   "metadata": {},
   "outputs": [],
   "source": [
    "%%time\n",
    "from sklearn.model_selection import TimeSeriesSplit\n",
    "tscv = TimeSeriesSplit()\n",
    "print(tscv)\n",
    "\n",
    "for train_index, test_index in tscv.split(df):\n",
    "    print(\"TRAIN:\", train_index, \"TEST:\", test_index)\n",
    "    X_train, X_test = X.loc[train_index], X.loc[test_index]\n",
    "    y_train, y_test = y[train_index], y[test_index]"
   ]
  },
  {
   "cell_type": "code",
   "execution_count": null,
   "metadata": {},
   "outputs": [],
   "source": [
    "train_x[['channelGrouping', 'first_ses_from_the_period_start', 'last_ses_from_the_period_end', 'interval_dates',\n",
    "         'visitStartTime_counts', 'visitNumber_max', 'isMobile', 'operatingSystem', 'deviceCategory', 'continent',\n",
    "         'country', 'region', 'city', 'networkDomain', 'bounces_mean', 'hits_sum', 'hits_min', 'hits_max', 'hits_mean', \n",
    "         'pageviews_sum', 'pageviews_min', 'pageviews_max', 'pageviews_mean', 'sessionQualityDimMax', 'sessionQualityDimMean',\n",
    "         'timeOnSite_max', 'timeOnSite_mean', 'timeOnSite_sum', 'transactions', 'campaign', 'source', 'medium', 'referralPath']]"
   ]
  },
  {
   "cell_type": "markdown",
   "metadata": {},
   "source": [
    "# random-forest\n",
    "\n",
    "[lightgbm](#lightgbm)"
   ]
  },
  {
   "cell_type": "code",
   "execution_count": 15,
   "metadata": {},
   "outputs": [
    {
     "name": "stdout",
     "output_type": "stream",
     "text": [
      "Features sorted by their score:\n",
      "[(0.1434, 'last_ses_from_the_period_end'), (0.1309, 'pageviews_sum'), (0.1107, 'transactions'), (0.0974, 'interval_dates'), (0.0726, 'first_ses_from_the_period_start'), (0.0574, 'pageviews_mean'), (0.0524, 'hits_sum'), (0.0485, 'metro'), (0.028, 'operatingSystem'), (0.0213, 'channelGrouping'), (0.0203, 'visitStartTime_counts'), (0.0196, 'timeOnSite_sum'), (0.0193, 'timeOnSite_max'), (0.0189, 'hits_max'), (0.0185, 'sessionQualityDimMean'), (0.0158, 'networkDomain'), (0.0148, 'pageviews_max'), (0.0141, 'region'), (0.0116, 'sessionQualityDimMin'), (0.0112, 'bounces_mean'), (0.0101, 'sessionQualityDimSum'), (0.0101, 'referralPath'), (0.0101, 'hits_mean'), (0.0073, 'pageviews_min'), (0.0071, 'timeOnSite_min'), (0.0037, 'city'), (0.0035, 'hits_min'), (0.0032, 'timeOnSite_mean'), (0.0031, 'sessionQualityDimMax'), (0.0027, 'visitNumber_max'), (0.0024, 'medium'), (0.0023, 'source'), (0.0016, 'subContinent'), (0.0015, 'customDimensions_value'), (0.0014, 'continent'), (0.0013, 'deviceCategory'), (0.0012, 'campaign'), (0.0003, 'keyword'), (0.0001, 'country'), (0.0001, 'browser'), (0.0, 'newVisits'), (0.0, 'isTrueDirect'), (0.0, 'isMobile'), (0.0, 'googleAds')]\n",
      "Feature ranking:\n",
      "1. feature 2 (0.143388)\n",
      "2. feature 23 (0.130926)\n",
      "3. feature 35 (0.110732)\n",
      "4. feature 3 (0.097378)\n",
      "5. feature 1 (0.072564)\n",
      "6. feature 26 (0.057403)\n",
      "7. feature 19 (0.052434)\n",
      "8. feature 14 (0.048491)\n",
      "9. feature 7 (0.027998)\n",
      "10. feature 0 (0.021330)\n",
      "11. feature 4 (0.020282)\n",
      "12. feature 31 (0.019636)\n",
      "13. feature 33 (0.019288)\n",
      "14. feature 21 (0.018945)\n",
      "15. feature 29 (0.018523)\n",
      "16. feature 16 (0.015776)\n",
      "17. feature 25 (0.014842)\n",
      "18. feature 13 (0.014052)\n",
      "19. feature 27 (0.011568)\n",
      "20. feature 17 (0.011196)\n",
      "21. feature 41 (0.010146)\n",
      "22. feature 30 (0.010078)\n",
      "23. feature 22 (0.010057)\n",
      "24. feature 24 (0.007302)\n",
      "25. feature 32 (0.007064)\n",
      "26. feature 15 (0.003724)\n",
      "27. feature 20 (0.003482)\n",
      "28. feature 34 (0.003168)\n",
      "29. feature 28 (0.003113)\n",
      "30. feature 5 (0.002722)\n",
      "31. feature 38 (0.002439)\n",
      "32. feature 37 (0.002310)\n",
      "33. feature 11 (0.001650)\n",
      "34. feature 43 (0.001545)\n",
      "35. feature 10 (0.001419)\n",
      "36. feature 9 (0.001347)\n",
      "37. feature 36 (0.001192)\n",
      "38. feature 39 (0.000315)\n",
      "39. feature 6 (0.000114)\n",
      "40. feature 12 (0.000063)\n",
      "41. feature 8 (0.000000)\n",
      "42. feature 18 (0.000000)\n",
      "43. feature 40 (0.000000)\n",
      "44. feature 42 (0.000000)\n"
     ]
    },
    {
     "data": {
      "image/png": "[encoded data removed]",
      "text/plain": [
       "<Figure size 432x288 with 1 Axes>"
      ]
     },
     "metadata": {
      "needs_background": "light"
     },
     "output_type": "display_data"
    },
    {
     "name": "stdout",
     "output_type": "stream",
     "text": [
      "Wall time: 7min 1s\n"
     ]
    }
   ],
   "source": [
    "%%time\n",
    "from sklearn.ensemble import RandomForestRegressor\n",
    "from sklearn.datasets import make_regression\n",
    "from matplotlib import pyplot\n",
    "\n",
    "names = train_x.columns\n",
    "\n",
    "RFreg = RandomForestRegressor(max_depth=4, \n",
    "                              random_state=0,\n",
    "                              criterion=\"mse\",\n",
    "                              n_jobs=3\n",
    "                             )\n",
    "RFreg.fit(train_x, train_y)\n",
    "\n",
    "print(\"Features sorted by their score:\")\n",
    "\n",
    "print(sorted(zip(map(lambda train_x: round(train_x, 4), \n",
    "                     RFreg.feature_importances_), \n",
    "                 names), \n",
    "             reverse=True))\n",
    "'''\n",
    "'''\n",
    "std = np.std([tree.feature_importances_ \n",
    "              for tree in RFreg.estimators_],\n",
    "             axis=0)\n",
    "importances = RFreg.feature_importances_\n",
    "indices = np.argsort(importances)[::-1]\n",
    "\n",
    "# Print the feature ranking\n",
    "print(\"Feature ranking:\")\n",
    "\n",
    "for f in range(train_x.shape[1]):\n",
    "    print(\"%d. feature %d (%f)\" % (f + 1, indices[f], importances[indices[f]]))\n",
    "\n",
    "# Plot the impurity-based feature importances of the forest\n",
    "import matplotlib.pyplot as plt\n",
    "plt.figure()\n",
    "plt.title(\"Feature importances\")\n",
    "plt.bar(range(train_x.shape[1]),\n",
    "        importances[indices],\n",
    "        color=\"r\",\n",
    "        yerr=std[indices],\n",
    "        align=\"center\")\n",
    "plt.xticks(range(train_x.shape[1]), indices)\n",
    "plt.xlim([-1, train_x.shape[1]])\n",
    "plt.show()"
   ]
  },
  {
   "cell_type": "code",
   "execution_count": 13,
   "metadata": {},
   "outputs": [
    {
     "name": "stdout",
     "output_type": "stream",
     "text": [
      "Index(['channelGrouping', 'first_ses_from_the_period_start',\n",
      "       'last_ses_from_the_period_end', 'interval_dates',\n",
      "       'visitStartTime_counts', 'visitNumber_max', 'operatingSystem',\n",
      "       'deviceCategory', 'continent', 'subContinent', 'region', 'metro',\n",
      "       'city', 'networkDomain', 'bounces_mean', 'hits_sum', 'hits_min',\n",
      "       'hits_max', 'hits_mean', 'pageviews_sum', 'pageviews_min',\n",
      "       'pageviews_max', 'pageviews_mean', 'sessionQualityDimMin',\n",
      "       'sessionQualityDimMax', 'sessionQualityDimMean', 'sessionQualityDimSum',\n",
      "       'timeOnSite_sum', 'timeOnSite_min', 'timeOnSite_max', 'timeOnSite_mean',\n",
      "       'transactions', 'campaign', 'source', 'medium', 'referralPath',\n",
      "       'customDimensions_value'],\n",
      "      dtype='object')\n",
      "\n",
      "0    0.0\n",
      "1    0.0\n",
      "2    0.0\n",
      "3    0.0\n",
      "4    0.0\n",
      "Name: target, dtype: float64\n"
     ]
    },
    {
     "ename": "ValueError",
     "evalue": "No axis named 1 for object type <class 'pandas.core.series.Series'>",
     "output_type": "error",
     "traceback": [
      "\u001b[1;31m---------------------------------------------------------------------------\u001b[0m",
      "\u001b[1;31mValueError\u001b[0m                                Traceback (most recent call last)",
      "\u001b[1;32m<ipython-input-13-3a7aa165ef37>\u001b[0m in \u001b[0;36m<module>\u001b[1;34m\u001b[0m\n\u001b[0;32m     29\u001b[0m                           \u001b[1;34m'isMobile'\u001b[0m\u001b[1;33m,\u001b[0m\u001b[1;33m\u001b[0m\u001b[1;33m\u001b[0m\u001b[0m\n\u001b[0;32m     30\u001b[0m                           'googleAds'],\n\u001b[1;32m---> 31\u001b[1;33m                           axis=1)\n\u001b[0m\u001b[0;32m     32\u001b[0m \u001b[0mprint\u001b[0m\u001b[1;33m(\u001b[0m\u001b[0mtrain_ynew\u001b[0m\u001b[1;33m.\u001b[0m\u001b[0mcolumns\u001b[0m\u001b[1;33m)\u001b[0m\u001b[1;33m\u001b[0m\u001b[1;33m\u001b[0m\u001b[0m\n\u001b[0;32m     33\u001b[0m \u001b[0mprint\u001b[0m\u001b[1;33m(\u001b[0m\u001b[1;33m)\u001b[0m\u001b[1;33m\u001b[0m\u001b[1;33m\u001b[0m\u001b[0m\n",
      "\u001b[1;32mC:\\ProgramData\\Anaconda3\\lib\\site-packages\\pandas\\core\\series.py\u001b[0m in \u001b[0;36mdrop\u001b[1;34m(self, labels, axis, index, columns, level, inplace, errors)\u001b[0m\n\u001b[0;32m   4137\u001b[0m             \u001b[0mlevel\u001b[0m\u001b[1;33m=\u001b[0m\u001b[0mlevel\u001b[0m\u001b[1;33m,\u001b[0m\u001b[1;33m\u001b[0m\u001b[1;33m\u001b[0m\u001b[0m\n\u001b[0;32m   4138\u001b[0m             \u001b[0minplace\u001b[0m\u001b[1;33m=\u001b[0m\u001b[0minplace\u001b[0m\u001b[1;33m,\u001b[0m\u001b[1;33m\u001b[0m\u001b[1;33m\u001b[0m\u001b[0m\n\u001b[1;32m-> 4139\u001b[1;33m             \u001b[0merrors\u001b[0m\u001b[1;33m=\u001b[0m\u001b[0merrors\u001b[0m\u001b[1;33m,\u001b[0m\u001b[1;33m\u001b[0m\u001b[1;33m\u001b[0m\u001b[0m\n\u001b[0m\u001b[0;32m   4140\u001b[0m         )\n\u001b[0;32m   4141\u001b[0m \u001b[1;33m\u001b[0m\u001b[0m\n",
      "\u001b[1;32mC:\\ProgramData\\Anaconda3\\lib\\site-packages\\pandas\\core\\generic.py\u001b[0m in \u001b[0;36mdrop\u001b[1;34m(self, labels, axis, index, columns, level, inplace, errors)\u001b[0m\n\u001b[0;32m   3921\u001b[0m             \u001b[1;32mif\u001b[0m \u001b[0mindex\u001b[0m \u001b[1;32mis\u001b[0m \u001b[1;32mnot\u001b[0m \u001b[1;32mNone\u001b[0m \u001b[1;32mor\u001b[0m \u001b[0mcolumns\u001b[0m \u001b[1;32mis\u001b[0m \u001b[1;32mnot\u001b[0m \u001b[1;32mNone\u001b[0m\u001b[1;33m:\u001b[0m\u001b[1;33m\u001b[0m\u001b[1;33m\u001b[0m\u001b[0m\n\u001b[0;32m   3922\u001b[0m                 \u001b[1;32mraise\u001b[0m \u001b[0mValueError\u001b[0m\u001b[1;33m(\u001b[0m\u001b[1;34m\"Cannot specify both 'labels' and 'index'/'columns'\"\u001b[0m\u001b[1;33m)\u001b[0m\u001b[1;33m\u001b[0m\u001b[1;33m\u001b[0m\u001b[0m\n\u001b[1;32m-> 3923\u001b[1;33m             \u001b[0maxis_name\u001b[0m \u001b[1;33m=\u001b[0m \u001b[0mself\u001b[0m\u001b[1;33m.\u001b[0m\u001b[0m_get_axis_name\u001b[0m\u001b[1;33m(\u001b[0m\u001b[0maxis\u001b[0m\u001b[1;33m)\u001b[0m\u001b[1;33m\u001b[0m\u001b[1;33m\u001b[0m\u001b[0m\n\u001b[0m\u001b[0;32m   3924\u001b[0m             \u001b[0maxes\u001b[0m \u001b[1;33m=\u001b[0m \u001b[1;33m{\u001b[0m\u001b[0maxis_name\u001b[0m\u001b[1;33m:\u001b[0m \u001b[0mlabels\u001b[0m\u001b[1;33m}\u001b[0m\u001b[1;33m\u001b[0m\u001b[1;33m\u001b[0m\u001b[0m\n\u001b[0;32m   3925\u001b[0m         \u001b[1;32melif\u001b[0m \u001b[0mindex\u001b[0m \u001b[1;32mis\u001b[0m \u001b[1;32mnot\u001b[0m \u001b[1;32mNone\u001b[0m \u001b[1;32mor\u001b[0m \u001b[0mcolumns\u001b[0m \u001b[1;32mis\u001b[0m \u001b[1;32mnot\u001b[0m \u001b[1;32mNone\u001b[0m\u001b[1;33m:\u001b[0m\u001b[1;33m\u001b[0m\u001b[1;33m\u001b[0m\u001b[0m\n",
      "\u001b[1;32mC:\\ProgramData\\Anaconda3\\lib\\site-packages\\pandas\\core\\generic.py\u001b[0m in \u001b[0;36m_get_axis_name\u001b[1;34m(cls, axis)\u001b[0m\n\u001b[0;32m    418\u001b[0m             \u001b[1;32mexcept\u001b[0m \u001b[0mKeyError\u001b[0m\u001b[1;33m:\u001b[0m\u001b[1;33m\u001b[0m\u001b[1;33m\u001b[0m\u001b[0m\n\u001b[0;32m    419\u001b[0m                 \u001b[1;32mpass\u001b[0m\u001b[1;33m\u001b[0m\u001b[1;33m\u001b[0m\u001b[0m\n\u001b[1;32m--> 420\u001b[1;33m         \u001b[1;32mraise\u001b[0m \u001b[0mValueError\u001b[0m\u001b[1;33m(\u001b[0m\u001b[1;34mf\"No axis named {axis} for object type {cls}\"\u001b[0m\u001b[1;33m)\u001b[0m\u001b[1;33m\u001b[0m\u001b[1;33m\u001b[0m\u001b[0m\n\u001b[0m\u001b[0;32m    421\u001b[0m \u001b[1;33m\u001b[0m\u001b[0m\n\u001b[0;32m    422\u001b[0m     \u001b[1;32mdef\u001b[0m \u001b[0m_get_axis\u001b[0m\u001b[1;33m(\u001b[0m\u001b[0mself\u001b[0m\u001b[1;33m,\u001b[0m \u001b[0maxis\u001b[0m\u001b[1;33m)\u001b[0m\u001b[1;33m:\u001b[0m\u001b[1;33m\u001b[0m\u001b[1;33m\u001b[0m\u001b[0m\n",
      "\u001b[1;31mValueError\u001b[0m: No axis named 1 for object type <class 'pandas.core.series.Series'>"
     ]
    }
   ],
   "source": [
    "# drop non important features\n",
    "\n",
    "# (0.0003, 'keyword'), \n",
    "# (0.0001, 'country'), \n",
    "# (0.0001, 'browser'), \n",
    "# (0.0, 'newVisits'), \n",
    "# (0.0, 'isTrueDirect'), \n",
    "# (0.0, 'isMobile'), \n",
    "# (0.0, 'googleAds')\n",
    "\n",
    "train_xnew = train_x.drop(['keyword',\n",
    "                          'country',\n",
    "                          'browser',\n",
    "                          'newVisits',\n",
    "                          'isTrueDirect',\n",
    "                          'isMobile',\n",
    "                          'googleAds'],\n",
    "                          axis=1)\n",
    "print(train_xnew.columns)\n",
    "print()\n",
    "\n",
    "print(train_y.head())\n",
    "\n",
    "train_ynew = train_y.drop(['keyword',\n",
    "                          'country',\n",
    "                          'browser',\n",
    "                          'newVisits',\n",
    "                          'isTrueDirect',\n",
    "                          'isMobile',\n",
    "                          'googleAds'],\n",
    "                          axis=1)\n",
    "print(train_ynew.columns)\n",
    "print()"
   ]
  },
  {
   "cell_type": "code",
   "execution_count": 10,
   "metadata": {},
   "outputs": [
    {
     "ename": "NameError",
     "evalue": "name 'train_ynew' is not defined",
     "output_type": "error",
     "traceback": [
      "\u001b[1;31m---------------------------------------------------------------------------\u001b[0m",
      "\u001b[1;31mNameError\u001b[0m                                 Traceback (most recent call last)",
      "\u001b[1;32m<ipython-input-10-ee69891829f7>\u001b[0m in \u001b[0;36m<module>\u001b[1;34m\u001b[0m\n\u001b[0;32m      4\u001b[0m                               \u001b[0mn_jobs\u001b[0m\u001b[1;33m=\u001b[0m\u001b[1;36m3\u001b[0m\u001b[1;33m\u001b[0m\u001b[1;33m\u001b[0m\u001b[0m\n\u001b[0;32m      5\u001b[0m                              )\n\u001b[1;32m----> 6\u001b[1;33m \u001b[0mRFreg\u001b[0m\u001b[1;33m.\u001b[0m\u001b[0mfit\u001b[0m\u001b[1;33m(\u001b[0m\u001b[0mtrain_xnew\u001b[0m\u001b[1;33m,\u001b[0m \u001b[0mtrain_ynew\u001b[0m\u001b[1;33m)\u001b[0m\u001b[1;33m\u001b[0m\u001b[1;33m\u001b[0m\u001b[0m\n\u001b[0m\u001b[0;32m      7\u001b[0m \u001b[1;33m\u001b[0m\u001b[0m\n\u001b[0;32m      8\u001b[0m \u001b[0mpredictions\u001b[0m \u001b[1;33m=\u001b[0m \u001b[0mRFreg\u001b[0m\u001b[1;33m.\u001b[0m\u001b[0mpredict\u001b[0m\u001b[1;33m(\u001b[0m\u001b[0mtest_x\u001b[0m\u001b[1;33m)\u001b[0m\u001b[1;33m\u001b[0m\u001b[1;33m\u001b[0m\u001b[0m\n",
      "\u001b[1;31mNameError\u001b[0m: name 'train_ynew' is not defined"
     ]
    }
   ],
   "source": [
    "RFreg = RandomForestRegressor(max_depth=4, \n",
    "                              random_state=0,\n",
    "                              criterion=\"mse\",\n",
    "                              n_jobs=3\n",
    "                             )\n",
    "RFreg.fit(train_xnew, train_ynew)\n",
    "\n"
   ]
  },
  {
   "cell_type": "code",
   "execution_count": null,
   "metadata": {},
   "outputs": [],
   "source": []
  }
 ],
 "metadata": {
  "kernelspec": {
   "display_name": "Python 3",
   "language": "python",
   "name": "python3"
  },
  "language_info": {
   "codemirror_mode": {
    "name": "ipython",
    "version": 3
   },
   "file_extension": ".py",
   "mimetype": "text/x-python",
   "name": "python",
   "nbconvert_exporter": "python",
   "pygments_lexer": "ipython3",
   "version": "3.7.4"
  }
 },
 "nbformat": 4,
 "nbformat_minor": 4
}
